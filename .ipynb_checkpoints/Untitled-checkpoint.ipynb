{
 "cells": [
  {
   "cell_type": "code",
   "execution_count": 1,
   "id": "eefc608c",
   "metadata": {
    "collapsed": true
   },
   "outputs": [
    {
     "name": "stdout",
     "output_type": "stream",
     "text": [
      "Collecting fastapi\n",
      "  Using cached fastapi-0.101.1-py3-none-any.whl (65 kB)\n",
      "Collecting uvicorn\n",
      "  Using cached uvicorn-0.23.2-py3-none-any.whl (59 kB)\n",
      "Collecting httpx\n",
      "  Using cached httpx-0.24.1-py3-none-any.whl (75 kB)\n",
      "Collecting pydantic!=1.8,!=1.8.1,!=2.0.0,!=2.0.1,!=2.1.0,<3.0.0,>=1.7.4 (from fastapi)\n",
      "  Using cached pydantic-2.2.0-py3-none-any.whl (373 kB)\n",
      "Collecting starlette<0.28.0,>=0.27.0 (from fastapi)\n",
      "  Using cached starlette-0.27.0-py3-none-any.whl (66 kB)\n",
      "Requirement already satisfied: typing-extensions>=4.5.0 in c:\\users\\alikh\\anaconda3\\lib\\site-packages (from fastapi) (4.6.3)\n",
      "Requirement already satisfied: click>=7.0 in c:\\users\\alikh\\anaconda3\\lib\\site-packages (from uvicorn) (8.0.4)\n",
      "Collecting h11>=0.8 (from uvicorn)\n",
      "  Using cached h11-0.14.0-py3-none-any.whl (58 kB)\n",
      "Requirement already satisfied: certifi in c:\\users\\alikh\\anaconda3\\lib\\site-packages (from httpx) (2023.7.22)\n",
      "Collecting httpcore<0.18.0,>=0.15.0 (from httpx)\n",
      "  Using cached httpcore-0.17.3-py3-none-any.whl (74 kB)\n",
      "Requirement already satisfied: idna in c:\\users\\alikh\\anaconda3\\lib\\site-packages (from httpx) (3.4)\n",
      "Requirement already satisfied: sniffio in c:\\users\\alikh\\anaconda3\\lib\\site-packages (from httpx) (1.2.0)\n",
      "Requirement already satisfied: colorama in c:\\users\\alikh\\anaconda3\\lib\\site-packages (from click>=7.0->uvicorn) (0.4.6)\n",
      "Requirement already satisfied: anyio<5.0,>=3.0 in c:\\users\\alikh\\anaconda3\\lib\\site-packages (from httpcore<0.18.0,>=0.15.0->httpx) (3.5.0)\n",
      "Collecting annotated-types>=0.4.0 (from pydantic!=1.8,!=1.8.1,!=2.0.0,!=2.0.1,!=2.1.0,<3.0.0,>=1.7.4->fastapi)\n",
      "  Using cached annotated_types-0.5.0-py3-none-any.whl (11 kB)\n",
      "Collecting pydantic-core==2.6.0 (from pydantic!=1.8,!=1.8.1,!=2.0.0,!=2.0.1,!=2.1.0,<3.0.0,>=1.7.4->fastapi)\n",
      "  Using cached pydantic_core-2.6.0-cp311-none-win_amd64.whl (1.8 MB)\n",
      "Installing collected packages: pydantic-core, h11, annotated-types, uvicorn, starlette, pydantic, httpcore, httpx, fastapi\n",
      "Successfully installed annotated-types-0.5.0 fastapi-0.101.1 h11-0.14.0 httpcore-0.17.3 httpx-0.24.1 pydantic-2.2.0 pydantic-core-2.6.0 starlette-0.27.0 uvicorn-0.23.2\n"
     ]
    }
   ],
   "source": [
    "!pip install fastapi uvicorn httpx\n"
   ]
  },
  {
   "cell_type": "code",
   "execution_count": 4,
   "id": "43a6d7d5",
   "metadata": {},
   "outputs": [],
   "source": [
    "# wss://ws-api.binance.com:443/ws-api/v3\n",
    "# alternative\n",
    "# wss://ws-api.binance.com:9443 /ws-api/v3"
   ]
  },
  {
   "cell_type": "code",
   "execution_count": 2,
   "id": "a5797291",
   "metadata": {},
   "outputs": [],
   "source": [
    "from fastapi import FastAPI, WebSocket\n",
    "import httpx\n",
    "import json\n",
    "from datetime import datetime\n",
    "app = FastAPI()\n",
    "\n",
    "@app.websocket(\"/ws/{symbol}/{interval}\")\n",
    "async def websocket_endpoint(symbol: str, interval: str, websocket: WebSocket):\n",
    "    await websocket.accept()\n",
    "    \n",
    "    async with httpx.AsyncClient() as client:\n",
    "        url = f\"wss://stream.binance.com:9443/ws/{symbol}@kline_{interval}\"\n",
    "        async with client.stream('GET', url) as response:\n",
    "            async for chunk in response.aiter_text():\n",
    "                data = json.loads(chunk)\n",
    "                # Process and store the data as needed\n",
    "                await websocket.send_text(json.dumps(data))\n",
    "                \n",
    "                \n",
    "\n",
    "@app.post(\"/analyze-cycle\")\n",
    "async def analyze_cycle(symbol: str, interval: str):\n",
    "    # Fetch data from the local database based on symbol and interval\n",
    "    # Format the data as needed for the Cycle Scanner API\n",
    "    data = []  # Your formatted data\n",
    "\n",
    "    cycle_scanner_url = \"YOUR_CYCLE_SCANNER_API_URL\"\n",
    "    async with httpx.AsyncClient() as client:\n",
    "        response = await client.post(cycle_scanner_url, json=data)\n",
    "        response_data = response.json()\n",
    "\n",
    "        # Save the response_data to your local database\n",
    "        # ...\n",
    "\n",
    "    return response_data\n"
   ]
  },
  {
   "cell_type": "code",
   "execution_count": 3,
   "id": "a98d415e",
   "metadata": {},
   "outputs": [],
   "source": [
    "from sqlalchemy import create_engine, Column, Integer, String, Float, DateTime\n",
    "from sqlalchemy.orm import declarative_base, sessionmaker\n",
    "\n",
    "DATABASE_URL = \"sqlite:///./test.db\"\n",
    "engine = create_engine(DATABASE_URL)\n",
    "SessionLocal = sessionmaker(autocommit=False, autoflush=False, bind=engine)\n",
    "Base = declarative_base()\n",
    "\n",
    "class OHLCVData(Base):\n",
    "    __tablename__ = \"ohlcv_data\"\n",
    "\n",
    "    id = Column(Integer, primary_key=True, index=True)\n",
    "    timestamp = Column(DateTime)\n",
    "    open = Column(Float)\n",
    "    high = Column(Float)\n",
    "    low = Column(Float)\n",
    "    close = Column(Float)\n",
    "    volume = Column(Float)\n",
    "    symbol = Column(String)\n",
    "    interval = Column(String)\n",
    "\n",
    "Base.metadata.create_all(bind=engine)\n"
   ]
  },
  {
   "cell_type": "code",
   "execution_count": null,
   "id": "e3883b54",
   "metadata": {},
   "outputs": [],
   "source": []
  }
 ],
 "metadata": {
  "kernelspec": {
   "display_name": "Python 3 (ipykernel)",
   "language": "python",
   "name": "python3"
  },
  "language_info": {
   "codemirror_mode": {
    "name": "ipython",
    "version": 3
   },
   "file_extension": ".py",
   "mimetype": "text/x-python",
   "name": "python",
   "nbconvert_exporter": "python",
   "pygments_lexer": "ipython3",
   "version": "3.11.3"
  }
 },
 "nbformat": 4,
 "nbformat_minor": 5
}
